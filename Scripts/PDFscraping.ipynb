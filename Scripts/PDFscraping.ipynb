{
 "cells": [
  {
   "cell_type": "code",
   "execution_count": 1,
   "id": "ba899d91",
   "metadata": {},
   "outputs": [
    {
     "name": "stdout",
     "output_type": "stream",
     "text": [
      "Requirement already satisfied: PyMuPDF in c:\\users\\cfc\\anaconda3\\lib\\site-packages (1.24.5)\n",
      "Requirement already satisfied: pandas in c:\\users\\cfc\\anaconda3\\lib\\site-packages (2.0.3)\n",
      "Requirement already satisfied: PyMuPDFb==1.24.3 in c:\\users\\cfc\\anaconda3\\lib\\site-packages (from PyMuPDF) (1.24.3)\n",
      "Requirement already satisfied: python-dateutil>=2.8.2 in c:\\users\\cfc\\anaconda3\\lib\\site-packages (from pandas) (2.8.2)\n",
      "Requirement already satisfied: pytz>=2020.1 in c:\\users\\cfc\\anaconda3\\lib\\site-packages (from pandas) (2023.3.post1)\n",
      "Requirement already satisfied: tzdata>=2022.1 in c:\\users\\cfc\\anaconda3\\lib\\site-packages (from pandas) (2023.3)\n",
      "Requirement already satisfied: numpy>=1.21.0 in c:\\users\\cfc\\anaconda3\\lib\\site-packages (from pandas) (1.24.3)\n",
      "Requirement already satisfied: six>=1.5 in c:\\users\\cfc\\anaconda3\\lib\\site-packages (from python-dateutil>=2.8.2->pandas) (1.16.0)\n"
     ]
    }
   ],
   "source": [
    "!pip install PyMuPDF pandas"
   ]
  },
  {
   "cell_type": "code",
   "execution_count": 2,
   "id": "c7c6548e",
   "metadata": {},
   "outputs": [],
   "source": [
    "import fitz  # PyMuPDF\n",
    "import pandas as pd\n",
    "import re\n",
    "\n",
    "\n",
    "# Abrir el archivo PDF\n",
    "pdf_document = \"C:/Users/CFC/Downloads/Toward an Understanding of the Russian-Ukrainian War Impact on University Students and Personnel.pdf\"\n",
    "document = fitz.open(pdf_document)"
   ]
  },
  {
   "cell_type": "code",
   "execution_count": 3,
   "id": "471fbf1d",
   "metadata": {},
   "outputs": [],
   "source": [
    "# Función para dividir el texto en párrafos según las condiciones especificadas\n",
    "def split_paragraphs(text):\n",
    "    # Usar una expresión regular para encontrar párrafos que terminen en punto\n",
    "    paragraphs = re.split(r'(?<=\\.)\\s*\\n', text)\n",
    "    return paragraphs\n",
    "\n",
    "# Extraer texto del PDF y agruparlo en párrafos\n",
    "all_paragraphs = []\n",
    "for page_num in range(len(document)):\n",
    "    page = document.load_page(page_num)\n",
    "    text = page.get_text(\"text\")\n",
    "    paragraphs = split_paragraphs(text)\n",
    "    all_paragraphs.extend(paragraphs)\n",
    "\n",
    "# Crear un DataFrame con los párrafos\n",
    "df = pd.DataFrame(all_paragraphs, columns=[\"Paragraph\"])\n"
   ]
  },
  {
   "cell_type": "code",
   "execution_count": 4,
   "id": "45b93e89",
   "metadata": {},
   "outputs": [],
   "source": [
    "# Guardar el DataFrame en un archivo CSV\n",
    "df.to_csv(\"C:/Users/CFC/Downloads/pdf_paragraphs.csv\", index=False)\n"
   ]
  },
  {
   "cell_type": "code",
   "execution_count": 5,
   "id": "a6dc9a8d",
   "metadata": {},
   "outputs": [],
   "source": [
    "import fitz  # PyMuPDF\n",
    "import pandas as pd\n",
    "import re\n",
    "\n",
    "def pdf_to_csv(pdf_path, csv_path):\n",
    "    # Abrir el archivo PDF\n",
    "    document = fitz.open(pdf_path)\n",
    "\n",
    "    # Función para dividir el texto en párrafos según las condiciones especificadas\n",
    "    def split_paragraphs(text):\n",
    "        # Usar una expresión regular para encontrar párrafos que terminen en punto\n",
    "        paragraphs = re.split(r'(?<=\\.)\\s*\\n', text)\n",
    "        return paragraphs\n",
    "\n",
    "    # Extraer texto del PDF y agruparlo en párrafos\n",
    "    all_paragraphs = []\n",
    "    for page_num in range(len(document)):\n",
    "        page = document.load_page(page_num)\n",
    "        text = page.get_text(\"text\")\n",
    "        paragraphs = split_paragraphs(text)\n",
    "        all_paragraphs.extend(paragraphs)\n",
    "\n",
    "    # Crear un DataFrame con los párrafos\n",
    "    df = pd.DataFrame(all_paragraphs, columns=[\"Paragraph\"])\n",
    "\n",
    "    # Guardar el DataFrame en un archivo CSV\n",
    "    df.to_csv(csv_path, index=False)"
   ]
  },
  {
   "cell_type": "code",
   "execution_count": 6,
   "id": "733937d0",
   "metadata": {},
   "outputs": [
    {
     "name": "stdout",
     "output_type": "stream",
     "text": [
      "Procesado C:/Users/CFC/Downloads/Webscrapping/1-s2.0-S105752192300114X-main.pdf y guardado en C:/Users/CFC/Downloads/Webscrapping/pdf_paragraphs_1.csv\n",
      "Procesado C:/Users/CFC/Downloads/Webscrapping/1-s2.0-S0048969723047472-main.pdf y guardado en C:/Users/CFC/Downloads/Webscrapping/pdf_paragraphs_2.csv\n",
      "Procesado C:/Users/CFC/Downloads/Webscrapping/1-s2.0-S0148296323004794-main.pdf y guardado en C:/Users/CFC/Downloads/Webscrapping/pdf_paragraphs_3.csv\n",
      "Procesado C:/Users/CFC/Downloads/Webscrapping/1-s2.0-S0165176523001003-am.pdf y guardado en C:/Users/CFC/Downloads/Webscrapping/pdf_paragraphs_4.csv\n",
      "Procesado C:/Users/CFC/Downloads/Webscrapping/1-s2.0-S0277539523000833-main.pdf y guardado en C:/Users/CFC/Downloads/Webscrapping/pdf_paragraphs_5.csv\n",
      "Procesado C:/Users/CFC/Downloads/Webscrapping/1-s2.0-S0921344922004906-main.pdf y guardado en C:/Users/CFC/Downloads/Webscrapping/pdf_paragraphs_6.csv\n",
      "Procesado C:/Users/CFC/Downloads/Webscrapping/1-s2.0-S105752192300114X-main.pdf y guardado en C:/Users/CFC/Downloads/Webscrapping/pdf_paragraphs_7.csv\n",
      "Procesado C:/Users/CFC/Downloads/Webscrapping/1-s2.0-S2352484723001324-main.pdf y guardado en C:/Users/CFC/Downloads/Webscrapping/pdf_paragraphs_8.csv\n",
      "Procesado C:/Users/CFC/Downloads/Webscrapping/53110-the-impact-of-the-russia-ukraine-war-on-the-cryptocurrency-market.pdf y guardado en C:/Users/CFC/Downloads/Webscrapping/pdf_paragraphs_9.csv\n",
      "Procesado C:/Users/CFC/Downloads/Webscrapping/81400991-EA32-4200-955C-2D996CCF38CF.pdf y guardado en C:/Users/CFC/Downloads/Webscrapping/pdf_paragraphs_10.csv\n"
     ]
    }
   ],
   "source": [
    "# Lista de archivos PDF y nombres de archivos CSV correspondientes\n",
    "pdf_files = [\n",
    "    \"C:/Users/CFC/Downloads/Webscrapping/1-s2.0-S105752192300114X-main.pdf\",\n",
    "    \"C:/Users/CFC/Downloads/Webscrapping/1-s2.0-S0048969723047472-main.pdf\",\n",
    "    \"C:/Users/CFC/Downloads/Webscrapping/1-s2.0-S0148296323004794-main.pdf\",\n",
    "    \"C:/Users/CFC/Downloads/Webscrapping/1-s2.0-S0165176523001003-am.pdf\",\n",
    "    \"C:/Users/CFC/Downloads/Webscrapping/1-s2.0-S0277539523000833-main.pdf\",\n",
    "    \"C:/Users/CFC/Downloads/Webscrapping/1-s2.0-S0921344922004906-main.pdf\",\n",
    "    \"C:/Users/CFC/Downloads/Webscrapping/1-s2.0-S105752192300114X-main.pdf\",\n",
    "    \"C:/Users/CFC/Downloads/Webscrapping/1-s2.0-S2352484723001324-main.pdf\",\n",
    "    \"C:/Users/CFC/Downloads/Webscrapping/53110-the-impact-of-the-russia-ukraine-war-on-the-cryptocurrency-market.pdf\",\n",
    "    \"C:/Users/CFC/Downloads/Webscrapping/81400991-EA32-4200-955C-2D996CCF38CF.pdf\",\n",
    "    # Añade más rutas de archivos PDF aquí\n",
    "]\n",
    "\n",
    "csv_files = [\n",
    "    \"C:/Users/CFC/Downloads/Webscrapping/pdf_paragraphs_1.csv\",\n",
    "    \"C:/Users/CFC/Downloads/Webscrapping/pdf_paragraphs_2.csv\",\n",
    "    \"C:/Users/CFC/Downloads/Webscrapping/pdf_paragraphs_3.csv\",\n",
    "    \"C:/Users/CFC/Downloads/Webscrapping/pdf_paragraphs_4.csv\",\n",
    "    \"C:/Users/CFC/Downloads/Webscrapping/pdf_paragraphs_5.csv\",\n",
    "    \"C:/Users/CFC/Downloads/Webscrapping/pdf_paragraphs_6.csv\",\n",
    "    \"C:/Users/CFC/Downloads/Webscrapping/pdf_paragraphs_7.csv\",\n",
    "    \"C:/Users/CFC/Downloads/Webscrapping/pdf_paragraphs_8.csv\",\n",
    "    \"C:/Users/CFC/Downloads/Webscrapping/pdf_paragraphs_9.csv\",\n",
    "    \"C:/Users/CFC/Downloads/Webscrapping/pdf_paragraphs_10.csv\",\n",
    "    # Añade más nombres de archivos CSV aquí\n",
    "]\n",
    "\n",
    "# Iterar sobre los archivos PDF y procesarlos\n",
    "for pdf_path, csv_path in zip(pdf_files, csv_files):\n",
    "    pdf_to_csv(pdf_path, csv_path)\n",
    "    print(f\"Procesado {pdf_path} y guardado en {csv_path}\")\n"
   ]
  },
  {
   "cell_type": "code",
   "execution_count": 10,
   "id": "4005243b",
   "metadata": {},
   "outputs": [
    {
     "name": "stdout",
     "output_type": "stream",
     "text": [
      "                                           Paragraph\n",
      "0  International Review of Financial Analysis 87 ...\n",
      "1  The impact of the Russian-Ukrainian war on glo...\n",
      "2  1. Introduction  On February 24, 2022 Russia i...\n",
      "3  Countries in Europe, Central Asia, the Middle ...\n",
      "4  Ukraine's exports of seed oil account for 40% ...\n"
     ]
    }
   ],
   "source": [
    "import pandas as pd\n",
    "\n",
    "# Lista de nombres de archivos CSV\n",
    "csv_files = [f\"C:/Users/CFC/Downloads/Webscrapping/pdf_paragraphs_{i}.csv\" for i in range(1, 11)]\n",
    "\n",
    "# Leer y concatenar todos los archivos CSV\n",
    "df_list = [pd.read_csv(file) for file in csv_files]\n",
    "combined_df = pd.concat(df_list, ignore_index=True)\n",
    "\n",
    "# Eliminar los saltos de línea de la columna \"Paragraph\"\n",
    "combined_df['Paragraph'] = combined_df['Paragraph'].str.replace('\\n', ' ').str.replace('\\r', ' ')\n",
    "\n",
    "# Eliminar filas que contienen valores NA o están vacías\n",
    "combined_df = combined_df.dropna().reset_index(drop=True)\n",
    "\n",
    "# Guardar el DataFrame combinado en un nuevo archivo CSV\n",
    "combined_df.to_csv(\"C:/Users/CFC/Downloads/Webscrapping/combined_pdf_paragraphs.csv\", index=False)\n",
    "\n",
    "# Verificar las primeras filas del archivo combinado\n",
    "print(combined_df.head())\n"
   ]
  },
  {
   "cell_type": "code",
   "execution_count": 11,
   "id": "a2fbae5f",
   "metadata": {},
   "outputs": [
    {
     "name": "stdout",
     "output_type": "stream",
     "text": [
      "                                           Paragraph\n",
      "0  International Review of Financial Analysis 87 ...\n",
      "1  The impact of the Russian-Ukrainian war on glo...\n",
      "2  1. Introduction  On February 24, 2022 Russia i...\n",
      "3  Countries in Europe, Central Asia, the Middle ...\n",
      "4  Ukraine's exports of seed oil account for 40% ...\n"
     ]
    }
   ],
   "source": [
    "# Cargar los datos desde el archivo CSV\n",
    "csv_path = \"C:/Users/CFC/Downloads/Webscrapping/combined_pdf_paragraphs.csv\"\n",
    "df = pd.read_csv(csv_path)\n",
    "\n",
    "# Eliminar los saltos de línea de la columna \"Paragraph\"\n",
    "df['Paragraph'] = df['Paragraph'].str.replace('\\n', ' ').str.replace('\\r', ' ')\n",
    "\n",
    "# Verificar las primeras filas del DataFrame\n",
    "print(df.head())\n",
    "\n",
    "# Función para eliminar caracteres no comunes a codificación UTF-8\n",
    "def clean_text(text):\n",
    "    if isinstance(text, str):\n",
    "        # Eliminar caracteres que no son comunes a UTF-8\n",
    "        return re.sub(r'[^\\x00-\\x7F]+', '', text)\n",
    "    return text\n",
    "\n",
    "df['Paragraph'] = df['Paragraph'].apply(clean_text)\n",
    "\n",
    "# Eliminar filas que contienen valores NA o están vacías\n",
    "df = df.dropna().reset_index(drop=True)\n",
    "\n",
    "# Guardar el DataFrame en un nuevo archivo CSV con codificación UTF-8\n",
    "utf8_csv_path = \"C:/Users/CFC/Downloads/Webscrapping/combined_pdf_paragraphs_utf8.csv\"\n",
    "df.to_csv(utf8_csv_path, index=False, encoding='utf-8')"
   ]
  },
  {
   "cell_type": "code",
   "execution_count": 19,
   "id": "18770e7b",
   "metadata": {},
   "outputs": [
    {
     "name": "stdout",
     "output_type": "stream",
     "text": [
      "                                           Paragraph\n",
      "0  International Review of Financial Analysis 87 ...\n",
      "1  The impact of the Russian-Ukrainian war on glo...\n",
      "2  1. Introduction  On February 24, 2022 Russia i...\n",
      "3  Countries in Europe, Central Asia, the Middle ...\n",
      "4  Ukraine's exports of seed oil account for 40% ...\n"
     ]
    }
   ],
   "source": [
    "# Eliminar los saltos de línea de la columna \"Paragraph\"\n",
    "df['Paragraph'] = df['Paragraph'].str.replace('\\n', ' ').str.replace('\\r', ' ')\n",
    "\n",
    "# Guardar el DataFrame actualizado en un nuevo archivo CSV\n",
    "df.to_csv(\"C:/Users/CFC/Downloads/Webscrapping/combined_pdf_paragraphs_no_newlines.csv\", index=False)\n",
    "\n",
    "# Verificar las primeras filas del DataFrame actualizado\n",
    "print(df.head())"
   ]
  },
  {
   "cell_type": "code",
   "execution_count": 18,
   "id": "c10f9e32",
   "metadata": {},
   "outputs": [
    {
     "ename": "ModuleNotFoundError",
     "evalue": "No module named 'openai'",
     "output_type": "error",
     "traceback": [
      "\u001b[1;31m---------------------------------------------------------------------------\u001b[0m",
      "\u001b[1;31mModuleNotFoundError\u001b[0m                       Traceback (most recent call last)",
      "Cell \u001b[1;32mIn[18], line 1\u001b[0m\n\u001b[1;32m----> 1\u001b[0m \u001b[38;5;28;01mimport\u001b[39;00m \u001b[38;5;21;01mopenai\u001b[39;00m\n\u001b[0;32m      2\u001b[0m \u001b[38;5;28;01mimport\u001b[39;00m \u001b[38;5;21;01mjson\u001b[39;00m\n\u001b[0;32m      4\u001b[0m \u001b[38;5;66;03m# Preparar los datos para la solicitud\u001b[39;00m\n",
      "\u001b[1;31mModuleNotFoundError\u001b[0m: No module named 'openai'"
     ]
    }
   ],
   "source": [
    "import openai\n",
    "import json\n",
    "\n",
    "# Preparar los datos para la solicitud\n",
    "paragraphs = df['Paragraph'].tolist()  # Asegúrate de que la columna correcta esté seleccionada\n",
    "data = {\n",
    "    \"input\": Paragraph,\n",
    "    \"model\": \"text-embedding-ada-002\"\n",
    "}\n",
    "\n",
    "# Enviar la solicitud a la API de OpenAI\n",
    "try:\n",
    "    response = openai.Embedding.create(**data)\n",
    "    embeddings = response['data']\n",
    "except openai.error.InvalidRequestError as e:\n",
    "    print(f\"Error: {e}\")\n",
    "\n",
    "# Verificar los embeddings\n",
    "print(embeddings)\n"
   ]
  },
  {
   "cell_type": "code",
   "execution_count": null,
   "id": "09a68958",
   "metadata": {},
   "outputs": [],
   "source": []
  }
 ],
 "metadata": {
  "kernelspec": {
   "display_name": "Python 3 (ipykernel)",
   "language": "python",
   "name": "python3"
  },
  "language_info": {
   "codemirror_mode": {
    "name": "ipython",
    "version": 3
   },
   "file_extension": ".py",
   "mimetype": "text/x-python",
   "name": "python",
   "nbconvert_exporter": "python",
   "pygments_lexer": "ipython3",
   "version": "3.11.5"
  }
 },
 "nbformat": 4,
 "nbformat_minor": 5
}
